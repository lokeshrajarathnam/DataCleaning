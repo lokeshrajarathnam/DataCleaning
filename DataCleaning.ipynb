{
 "cells": [
  {
   "cell_type": "code",
   "execution_count": 3,
   "metadata": {},
   "outputs": [],
   "source": [
    "import numpy as np \n",
    "import pandas as pd \n",
    "pd.options.mode.chained_assignment = None\n",
    "\n",
    "df = pd.DataFrame({'From_To': ['LoNDon_paris', 'MAdrid_miLAN', 'londON_StockhOlm',\n",
    "                  'Budapest_PaRis', 'Brussels_londOn'],\n",
    "                  'FlightNumber': [10045, np.nan, 10065, np.nan, 10085],\n",
    "                  'RecentDelays': [[23, 47], [], [24, 43, 87], [13], [67, 32]],\n",
    "                  'Airline': ['KLM(!)', '<Air France> (12)', '(British Airways. )',\n",
    "                  '12. Air France', '\"Swiss Air\"']})\n",
    "\n"
   ]
  },
  {
   "cell_type": "code",
   "execution_count": 4,
   "metadata": {
    "collapsed": true
   },
   "outputs": [],
   "source": [
    "#1. Fill in the missing numbers in the FlightNumber column (meant to increase by ten with each row) \n",
    "#   and make the column an integer column.  \n",
    "\n",
    "df['FlightNumber'].loc[1] = (df['FlightNumber'].loc[0] + 10)\n",
    "df['FlightNumber'].loc[3] = (df['FlightNumber'].loc[2] + 10)\n",
    "df['FlightNumber'] = df['FlightNumber'].astype(int)\n"
   ]
  },
  {
   "cell_type": "code",
   "execution_count": 5,
   "metadata": {
    "collapsed": true
   },
   "outputs": [],
   "source": [
    "#2. Split the From_To column with '_' as the delimiter on a new temporary DataFrame. \n",
    "#   Assign the correct column names to this temporary DataFrame. \n",
    "\n",
    "temp_df = pd.DataFrame(df.From_To)\n",
    "temp_df['From'] = temp_df.From_To.str.split('_').str.get(0)\n",
    "temp_df['To'] = temp_df.From_To.str.split('_').str.get(1)\n",
    "temp_df = temp_df.drop('From_To', 1)\n"
   ]
  },
  {
   "cell_type": "code",
   "execution_count": 6,
   "metadata": {
    "collapsed": true
   },
   "outputs": [],
   "source": [
    "#3. Standardise the strings in the temporary DataFrame, so that only the first letter is uppercase.\n",
    "\n",
    "temp_df['From'] = temp_df.From.str.title()\n",
    "temp_df['To'] = temp_df.To.str.title()"
   ]
  },
  {
   "cell_type": "code",
   "execution_count": 7,
   "metadata": {
    "collapsed": true
   },
   "outputs": [],
   "source": [
    "#4. Delete the From_To column from df, and attach the temporary DataFrame from the previous questions.\n",
    "\n",
    "df = df.drop('From_To', 1)\n",
    "df = pd.concat([temp_df,df], axis = 1)"
   ]
  },
  {
   "cell_type": "code",
   "execution_count": 8,
   "metadata": {},
   "outputs": [
    {
     "data": {
      "text/html": [
       "<div>\n",
       "<style>\n",
       "    .dataframe thead tr:only-child th {\n",
       "        text-align: right;\n",
       "    }\n",
       "\n",
       "    .dataframe thead th {\n",
       "        text-align: left;\n",
       "    }\n",
       "\n",
       "    .dataframe tbody tr th {\n",
       "        vertical-align: top;\n",
       "    }\n",
       "</style>\n",
       "<table border=\"1\" class=\"dataframe\">\n",
       "  <thead>\n",
       "    <tr style=\"text-align: right;\">\n",
       "      <th></th>\n",
       "      <th>From</th>\n",
       "      <th>To</th>\n",
       "      <th>Airline</th>\n",
       "      <th>FlightNumber</th>\n",
       "      <th>Delay_1</th>\n",
       "      <th>Delay_2</th>\n",
       "      <th>Delay_3</th>\n",
       "    </tr>\n",
       "  </thead>\n",
       "  <tbody>\n",
       "    <tr>\n",
       "      <th>0</th>\n",
       "      <td>London</td>\n",
       "      <td>Paris</td>\n",
       "      <td>KLM(!)</td>\n",
       "      <td>10045</td>\n",
       "      <td>23.0</td>\n",
       "      <td>47.0</td>\n",
       "      <td>NaN</td>\n",
       "    </tr>\n",
       "    <tr>\n",
       "      <th>1</th>\n",
       "      <td>Madrid</td>\n",
       "      <td>Milan</td>\n",
       "      <td>&lt;Air France&gt; (12)</td>\n",
       "      <td>10055</td>\n",
       "      <td>NaN</td>\n",
       "      <td>NaN</td>\n",
       "      <td>NaN</td>\n",
       "    </tr>\n",
       "    <tr>\n",
       "      <th>2</th>\n",
       "      <td>London</td>\n",
       "      <td>Stockholm</td>\n",
       "      <td>(British Airways. )</td>\n",
       "      <td>10065</td>\n",
       "      <td>24.0</td>\n",
       "      <td>43.0</td>\n",
       "      <td>87.0</td>\n",
       "    </tr>\n",
       "    <tr>\n",
       "      <th>3</th>\n",
       "      <td>Budapest</td>\n",
       "      <td>Paris</td>\n",
       "      <td>12. Air France</td>\n",
       "      <td>10075</td>\n",
       "      <td>13.0</td>\n",
       "      <td>NaN</td>\n",
       "      <td>NaN</td>\n",
       "    </tr>\n",
       "    <tr>\n",
       "      <th>4</th>\n",
       "      <td>Brussels</td>\n",
       "      <td>London</td>\n",
       "      <td>\"Swiss Air\"</td>\n",
       "      <td>10085</td>\n",
       "      <td>67.0</td>\n",
       "      <td>32.0</td>\n",
       "      <td>NaN</td>\n",
       "    </tr>\n",
       "  </tbody>\n",
       "</table>\n",
       "</div>"
      ],
      "text/plain": [
       "       From         To              Airline  FlightNumber  Delay_1  Delay_2  \\\n",
       "0    London      Paris               KLM(!)         10045     23.0     47.0   \n",
       "1    Madrid      Milan    <Air France> (12)         10055      NaN      NaN   \n",
       "2    London  Stockholm  (British Airways. )         10065     24.0     43.0   \n",
       "3  Budapest      Paris       12. Air France         10075     13.0      NaN   \n",
       "4  Brussels     London          \"Swiss Air\"         10085     67.0     32.0   \n",
       "\n",
       "   Delay_3  \n",
       "0      NaN  \n",
       "1      NaN  \n",
       "2     87.0  \n",
       "3      NaN  \n",
       "4      NaN  "
      ]
     },
     "execution_count": 8,
     "metadata": {},
     "output_type": "execute_result"
    }
   ],
   "source": [
    "#5. Expand the series of delays into a DataFrame named \"delays\". Each delay value should be in its own column. \n",
    "#   Missing values should be NaN. Rename the columns: delay_1, delay_2, etc. Replace RecentDelays with this DataFrame. \n",
    "\n",
    "delays = pd.DataFrame(df['RecentDelays'].values.tolist())\n",
    "delays.columns = ['Delay_1', 'Delay_2', 'Delay_3']\n",
    "\n",
    "df = df.drop('RecentDelays', 1)\n",
    "df.insert(4, \"Delay_1\", delays['Delay_1'])\n",
    "df.insert(5, \"Delay_2\", delays['Delay_2'])\n",
    "df.insert(6, \"Delay_3\", delays['Delay_3'])\n",
    "\n",
    "df"
   ]
  },
  {
   "cell_type": "code",
   "execution_count": null,
   "metadata": {
    "collapsed": true
   },
   "outputs": [],
   "source": []
  }
 ],
 "metadata": {
  "kernelspec": {
   "display_name": "Python 3",
   "language": "python",
   "name": "python3"
  },
  "language_info": {
   "codemirror_mode": {
    "name": "ipython",
    "version": 3
   },
   "file_extension": ".py",
   "mimetype": "text/x-python",
   "name": "python",
   "nbconvert_exporter": "python",
   "pygments_lexer": "ipython3",
   "version": "3.6.3"
  }
 },
 "nbformat": 4,
 "nbformat_minor": 2
}
